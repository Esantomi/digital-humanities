{
  "nbformat": 4,
  "nbformat_minor": 0,
  "metadata": {
    "colab": {
      "name": "언어분석_한국어_기본.ipynb",
      "provenance": [],
      "collapsed_sections": [],
      "include_colab_link": true
    },
    "kernelspec": {
      "name": "python3",
      "display_name": "Python 3"
    }
  },
  "cells": [
    {
      "cell_type": "markdown",
      "metadata": {
        "id": "view-in-github",
        "colab_type": "text"
      },
      "source": [
        "<a href=\"https://colab.research.google.com/github/Esantomi/digital-humanities/blob/main/lectures/%EC%9D%B8%EB%AC%B8%EC%A7%80%EC%8B%9D%EC%B2%98%EB%A6%AC%EC%99%80%ED%86%B5%EA%B3%84/03_%EC%96%B8%EC%96%B4%EB%B6%84%EC%84%9D_%ED%95%9C%EA%B5%AD%EC%96%B4_%EA%B8%B0%EB%B3%B8.ipynb\" target=\"_parent\"><img src=\"https://colab.research.google.com/assets/colab-badge.svg\" alt=\"Open In Colab\"/></a>"
      ]
    },
    {
      "cell_type": "code",
      "metadata": {
        "id": "JkwDdwbgo-Mp",
        "colab": {
          "base_uri": "https://localhost:8080/"
        },
        "cellView": "form",
        "outputId": "3be71151-bae5-47df-85d9-ff17e1a6f37e"
      },
      "source": [
        "#@title 환경 준비\n",
        "\n",
        "!pip install konlpy\n",
        "import pandas as pd\n",
        "\n",
        "from IPython.display import clear_output\n",
        "clear_output()\n",
        "\n",
        "print(\"###준비가 완료되었습니다.###\")"
      ],
      "execution_count": null,
      "outputs": [
        {
          "output_type": "stream",
          "name": "stdout",
          "text": [
            "###준비가 완료되었습니다.###\n"
          ]
        }
      ]
    },
    {
      "cell_type": "code",
      "metadata": {
        "id": "_KMWhC7KANGI",
        "colab": {
          "base_uri": "https://localhost:8080/",
          "height": 191
        },
        "cellView": "form",
        "outputId": "a48ea7bf-cf18-494b-baf9-1f7e6ba3d12a"
      },
      "source": [
        "#@title 데이터 불러오기(탭 \\t 으로 분리)\n",
        "구글드라이브ID = '1VEdcJErjAjj2ul5gnS0-IgKrpGy0NEAK'  #@param {type: \"string\"}\n",
        "파일저장이름 = 'rawdata.txt'  #@param {type: \"string\"}\n",
        "\n",
        "import time\n",
        "start = time.time() # 시작시간\n",
        "\n",
        "# 구글 드라이브 연결을 위한 기본 세팅\n",
        "!pip install -U -q PyDrive\n",
        " \n",
        "from pydrive.auth import GoogleAuth\n",
        "from pydrive.drive import GoogleDrive\n",
        "from google.colab import auth\n",
        "from oauth2client.client import GoogleCredentials\n",
        " \n",
        "# 1. Authenticate and create the PyDrive client.\n",
        "auth.authenticate_user()\n",
        "gauth = GoogleAuth()\n",
        "gauth.credentials = GoogleCredentials.get_application_default()\n",
        "drive = GoogleDrive(gauth)\n",
        "\n",
        "# 문서 ID로 실제 파일 불러오는 법\n",
        "# 실습을 위한 역대 대통령 취임사: 노무현, 이명박, 박근혜, 문재인\n",
        "rawdata_downloaded = drive.CreateFile({'id': 구글드라이브ID})\n",
        "rawdata_downloaded.GetContentFile(파일저장이름)\n",
        "\n",
        "print(파일저장이름+\"을 정상적으로 가져왔습니다.\")\n",
        "\n",
        "import pandas as pd\n",
        "# 파일을 DataFrame으로 전환\n",
        "rawdata = pd.read_csv(파일저장이름, sep=\"\\t\", header=0, encoding='utf-8', engine='python')\n",
        "rawdata.head()"
      ],
      "execution_count": null,
      "outputs": [
        {
          "output_type": "stream",
          "name": "stdout",
          "text": [
            "rawdata.txt을 정상적으로 가져왔습니다.\n"
          ]
        },
        {
          "output_type": "execute_result",
          "data": {
            "text/html": [
              "<div>\n",
              "<style scoped>\n",
              "    .dataframe tbody tr th:only-of-type {\n",
              "        vertical-align: middle;\n",
              "    }\n",
              "\n",
              "    .dataframe tbody tr th {\n",
              "        vertical-align: top;\n",
              "    }\n",
              "\n",
              "    .dataframe thead th {\n",
              "        text-align: right;\n",
              "    }\n",
              "</style>\n",
              "<table border=\"1\" class=\"dataframe\">\n",
              "  <thead>\n",
              "    <tr style=\"text-align: right;\">\n",
              "      <th></th>\n",
              "      <th>id</th>\n",
              "      <th>type</th>\n",
              "      <th>text</th>\n",
              "    </tr>\n",
              "  </thead>\n",
              "  <tbody>\n",
              "    <tr>\n",
              "      <th>0</th>\n",
              "      <td>1</td>\n",
              "      <td>노무현</td>\n",
              "      <td>존경하는 국민 여러분.   오늘 저는 대한민국의 제16대 대통령에 취임하기 위해 이...</td>\n",
              "    </tr>\n",
              "    <tr>\n",
              "      <th>1</th>\n",
              "      <td>2</td>\n",
              "      <td>이명박</td>\n",
              "      <td>존경하는 국민 여러분!  700만 해외동포 여러분, 이 자리에 참석하신 노무현, 김...</td>\n",
              "    </tr>\n",
              "    <tr>\n",
              "      <th>2</th>\n",
              "      <td>3</td>\n",
              "      <td>박근혜</td>\n",
              "      <td>희망의 새 시대를 열겠습니다.  존경하는 국민 여러분! 700만 해외동포 여러분! ...</td>\n",
              "    </tr>\n",
              "    <tr>\n",
              "      <th>3</th>\n",
              "      <td>4</td>\n",
              "      <td>문재인</td>\n",
              "      <td>존경하고 사랑하는 국민 여러분, 감사합니다. 국민 여러분의 위대한 선택에 머리 숙여...</td>\n",
              "    </tr>\n",
              "  </tbody>\n",
              "</table>\n",
              "</div>"
            ],
            "text/plain": [
              "   id type                                               text\n",
              "0   1  노무현  존경하는 국민 여러분.   오늘 저는 대한민국의 제16대 대통령에 취임하기 위해 이...\n",
              "1   2  이명박  존경하는 국민 여러분!  700만 해외동포 여러분, 이 자리에 참석하신 노무현, 김...\n",
              "2   3  박근혜  희망의 새 시대를 열겠습니다.  존경하는 국민 여러분! 700만 해외동포 여러분! ...\n",
              "3   4  문재인  존경하고 사랑하는 국민 여러분, 감사합니다. 국민 여러분의 위대한 선택에 머리 숙여..."
            ]
          },
          "metadata": {},
          "execution_count": 2
        }
      ]
    },
    {
      "cell_type": "code",
      "metadata": {
        "id": "EKF7EUhJ4NPx",
        "colab": {
          "base_uri": "https://localhost:8080/"
        },
        "cellView": "form",
        "outputId": "c688c67d-b12e-4c8b-e245-4b6d58e00733"
      },
      "source": [
        "#@title 형태소 분석 및 저장(파이썬은 0부터 시작!!!)\n",
        "텍스트데이터위치 = 2  #@param {type: \"number\"}\n",
        "타입데이터위치 = 1  #@param {type: \"number\"}\n",
        "파일저장이름 = 'fin_wordcount.csv'  #@param {type: \"string\"}\n",
        "\n",
        "# 분석하기\n",
        "from itertools import product\n",
        "import numpy as np\n",
        "from konlpy.tag import Okt\n",
        "okt = Okt()\n",
        "\n",
        "segments  = []\n",
        "for index, row in rawdata.iterrows():\n",
        "    textdata = row[텍스트데이터위치]\n",
        "    type = row[타입데이터위치]\n",
        "    words = list(okt.pos(textdata))\n",
        "    words = pd.DataFrame.from_records(words)\n",
        "    words['type'] = type\n",
        "    words['count'] = 1      \n",
        "    segments.append(words)\n",
        "\n",
        "# 단일 데이터프레임 구조로 변환\n",
        "framemerge = pd.concat(segments)\n",
        "\n",
        "# 데이터프레임의 컬럼값 조정\n",
        "framemerge.columns = [\"terms\", \"pos\", \"type\", \"count\"]\n",
        "\n",
        "print(\"##################################################\")\n",
        "print(\"타입별 형태소 추출 결과\")\n",
        "print(framemerge)\n",
        "print(\"##################################################\")\n",
        "\n",
        "# 데이터 정리하기\n",
        "dfwordflag = framemerge.groupby(['terms', 'pos', \"type\"])['count'].sum()\n",
        "\n",
        "# 단일 데이터프레임 구조로 변환\n",
        "dfwordflag = pd.DataFrame(dfwordflag)\n",
        "\n",
        "print(\"##################################################\")\n",
        "print(\"형태소+품사+타입을 기준으로 묶어주기 결과\")\n",
        "print(dfwordflag)\n",
        "print(\"##################################################\")\n",
        "\n",
        "\n",
        "#csv로 출력\n",
        "dfwordflag.to_csv(파일저장이름,header='true', quotechar='\"', encoding='utf-8')\n",
        "\n",
        "print(\"##################################################\")\n",
        "print(\"데이터를 \" + 파일저장이름 + \"로 저장 완료\")\n",
        "print(\"##################################################\")\n"
      ],
      "execution_count": null,
      "outputs": [
        {
          "output_type": "stream",
          "name": "stdout",
          "text": [
            "##################################################\n",
            "타입별 형태소 추출 결과\n",
            "      terms          pos type  count\n",
            "0        존경         Noun  노무현      1\n",
            "1        하는         Verb  노무현      1\n",
            "2        국민         Noun  노무현      1\n",
            "3       여러분         Noun  노무현      1\n",
            "4         .  Punctuation  노무현      1\n",
            "...     ...          ...  ...    ...\n",
            "1198      일         Noun  문재인      1\n",
            "1199  하겠습니다         Verb  문재인      1\n",
            "1200      .  Punctuation  문재인      1\n",
            "1201  감사합니다         Verb  문재인      1\n",
            "1202      .  Punctuation  문재인      1\n",
            "\n",
            "[9264 rows x 4 columns]\n",
            "##################################################\n",
            "##################################################\n",
            "형태소+품사+타입을 기준으로 묶어주기 결과\n",
            "                         count\n",
            "terms  pos         type       \n",
            "!      Punctuation 박근혜       9\n",
            "                   이명박       9\n",
            "'      Punctuation 노무현      10\n",
            "(      Punctuation 이명박       4\n",
            ")      Punctuation 이명박       4\n",
            "...                        ...\n",
            "힘      Noun        이명박       5\n",
            "힘들었던   Adjective   문재인       1\n",
            "힘쓰겠습니다 Verb        이명박       2\n",
            "힘쓸     Verb        이명박       1\n",
            "힘차게    Adjective   이명박       1\n",
            "\n",
            "[3285 rows x 1 columns]\n",
            "##################################################\n",
            "##################################################\n",
            "데이터를 fin_wordcount.csv로 저장 완료\n",
            "##################################################\n"
          ]
        }
      ]
    }
  ]
}