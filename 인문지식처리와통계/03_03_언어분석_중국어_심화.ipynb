{
  "nbformat": 4,
  "nbformat_minor": 0,
  "metadata": {
    "colab": {
      "name": "언어분석_중국어_심화.ipynb",
      "provenance": [],
      "include_colab_link": true
    },
    "kernelspec": {
      "name": "python3",
      "display_name": "Python 3"
    }
  },
  "cells": [
    {
      "cell_type": "markdown",
      "metadata": {
        "id": "view-in-github",
        "colab_type": "text"
      },
      "source": [
        "<a href=\"https://colab.research.google.com/github/Esantomi/digital-humanities/blob/main/lectures/%EC%9D%B8%EB%AC%B8%EC%A7%80%EC%8B%9D%EC%B2%98%EB%A6%AC%EC%99%80%ED%86%B5%EA%B3%84/03_03_%EC%96%B8%EC%96%B4%EB%B6%84%EC%84%9D_%EC%A4%91%EA%B5%AD%EC%96%B4_%EC%8B%AC%ED%99%94.ipynb\" target=\"_parent\"><img src=\"https://colab.research.google.com/assets/colab-badge.svg\" alt=\"Open In Colab\"/></a>"
      ]
    },
    {
      "cell_type": "markdown",
      "metadata": {
        "id": "wpCsBHBa8hJF"
      },
      "source": [
        "# 환경 준비"
      ]
    },
    {
      "cell_type": "code",
      "metadata": {
        "id": "eyPmei_R8LmV",
        "colab": {
          "base_uri": "https://localhost:8080/"
        },
        "outputId": "213c90b1-4f7d-494e-850f-73bd0d7aea2e"
      },
      "source": [
        "# jieba 설치하기\n",
        "!pip install jieba"
      ],
      "execution_count": null,
      "outputs": [
        {
          "output_type": "stream",
          "name": "stdout",
          "text": [
            "Requirement already satisfied: jieba in /usr/local/lib/python3.7/dist-packages (0.42.1)\n"
          ]
        }
      ]
    },
    {
      "cell_type": "code",
      "metadata": {
        "id": "gKnHcNj08P2k"
      },
      "source": [
        "# jieba 실행하기\n",
        "import jieba\n",
        "## pandas을 실행하기, 단 실행 별명을 pd로\n",
        "import pandas as pd"
      ],
      "execution_count": null,
      "outputs": []
    },
    {
      "cell_type": "markdown",
      "metadata": {
        "id": "ZWXimNhH8iIy"
      },
      "source": [
        "# 데이터 불러오기"
      ]
    },
    {
      "cell_type": "code",
      "metadata": {
        "id": "-4Ugq8aY8lK-"
      },
      "source": [
        "# 구글 드라이브 연결을 위한 기본 세팅 \n",
        "!pip install -U -q PyDrive\n",
        " \n",
        "from pydrive.auth import GoogleAuth\n",
        "from pydrive.drive import GoogleDrive\n",
        "from google.colab import auth\n",
        "from oauth2client.client import GoogleCredentials\n",
        "\n",
        "auth.authenticate_user()\n",
        "gauth = GoogleAuth()\n",
        "gauth.credentials = GoogleCredentials.get_application_default()\n",
        "drive = GoogleDrive(gauth)"
      ],
      "execution_count": null,
      "outputs": []
    },
    {
      "cell_type": "code",
      "metadata": {
        "id": "6nzCwpYN8lua"
      },
      "source": [
        "## 문서 ID로 실제 파일 불러오기\n",
        "# 실습을 위한 중국 역대 신년사 1992-2020\n",
        "## https://drive.google.com/open?id=1bRas-rKmq566nRaRGc0ADghu_KfCR7me\n",
        "\n",
        "rawdata_downloaded = drive.CreateFile({'id': '1bRas-rKmq566nRaRGc0ADghu_KfCR7me'})\n",
        "rawdata_downloaded.GetContentFile('rawdata.tsv')"
      ],
      "execution_count": null,
      "outputs": []
    },
    {
      "cell_type": "code",
      "metadata": {
        "id": "xlEJmz_E99EL"
      },
      "source": [
        "# \"rawdata.tsv\" 파일의 내용을 \"원본데이터\" 변수로 불러오기\n",
        "원본데이터 = pd.read_csv('rawdata.tsv', sep=\"\\t\")"
      ],
      "execution_count": null,
      "outputs": []
    },
    {
      "cell_type": "code",
      "metadata": {
        "id": "bb99bsKV-C4i",
        "colab": {
          "base_uri": "https://localhost:8080/",
          "height": 1000
        },
        "outputId": "209163fa-fd8e-476d-b242-0bde592c49f3"
      },
      "source": [
        "# \"원본데이터\" 변수 내용 확인하기\n",
        "원본데이터"
      ],
      "execution_count": null,
      "outputs": [
        {
          "output_type": "execute_result",
          "data": {
            "text/html": [
              "<div>\n",
              "<style scoped>\n",
              "    .dataframe tbody tr th:only-of-type {\n",
              "        vertical-align: middle;\n",
              "    }\n",
              "\n",
              "    .dataframe tbody tr th {\n",
              "        vertical-align: top;\n",
              "    }\n",
              "\n",
              "    .dataframe thead th {\n",
              "        text-align: right;\n",
              "    }\n",
              "</style>\n",
              "<table border=\"1\" class=\"dataframe\">\n",
              "  <thead>\n",
              "    <tr style=\"text-align: right;\">\n",
              "      <th></th>\n",
              "      <th>id</th>\n",
              "      <th>year</th>\n",
              "      <th>person</th>\n",
              "      <th>text</th>\n",
              "    </tr>\n",
              "  </thead>\n",
              "  <tbody>\n",
              "    <tr>\n",
              "      <th>0</th>\n",
              "      <td>1</td>\n",
              "      <td>1992</td>\n",
              "      <td>杨尚昆</td>\n",
              "      <td>女士们、先生们、朋友们：\\n在岁序更新之际，我通过中国国际广播电台，向海外各位朋友致以亲切的...</td>\n",
              "    </tr>\n",
              "    <tr>\n",
              "      <th>1</th>\n",
              "      <td>2</td>\n",
              "      <td>1993</td>\n",
              "      <td>杨尚昆</td>\n",
              "      <td>各位听众朋友：\\n1993年来到了，我很高兴再次通过中国国际广播电台向各国朋友、台湾同胞、港...</td>\n",
              "    </tr>\n",
              "    <tr>\n",
              "      <th>2</th>\n",
              "      <td>3</td>\n",
              "      <td>1994</td>\n",
              "      <td>江泽民</td>\n",
              "      <td>女士们，先生们，朋友们：\\n在1994年到来之际，我很高兴在北京通过中国国际广播电台，向各国...</td>\n",
              "    </tr>\n",
              "    <tr>\n",
              "      <th>3</th>\n",
              "      <td>4</td>\n",
              "      <td>1995</td>\n",
              "      <td>江泽民</td>\n",
              "      <td>女士们、先生们、朋友们：\\n在1995年到来之际，我很高兴再次通过中国国际广播电台，向各国人...</td>\n",
              "    </tr>\n",
              "    <tr>\n",
              "      <th>4</th>\n",
              "      <td>5</td>\n",
              "      <td>1996</td>\n",
              "      <td>江泽民</td>\n",
              "      <td>女士们、先生们、朋友们：\\n在这辞旧迎新的美好时刻，我很高兴通过中国国际广播电台和中央电视台...</td>\n",
              "    </tr>\n",
              "    <tr>\n",
              "      <th>5</th>\n",
              "      <td>6</td>\n",
              "      <td>1997</td>\n",
              "      <td>江泽民</td>\n",
              "      <td>女士们、先生们、朋友们：\\n在1997年到来的钟声即将敲响的时刻，我很高兴地通过中国国际广播...</td>\n",
              "    </tr>\n",
              "    <tr>\n",
              "      <th>6</th>\n",
              "      <td>7</td>\n",
              "      <td>1998</td>\n",
              "      <td>江泽民</td>\n",
              "      <td>同胞们、朋友们、女士们、先生们：\\n在1998年来临之际，我十分高兴地通过中央人民广播电台、...</td>\n",
              "    </tr>\n",
              "    <tr>\n",
              "      <th>7</th>\n",
              "      <td>8</td>\n",
              "      <td>1999</td>\n",
              "      <td>江泽民</td>\n",
              "      <td>女士们，先生们，同志们，朋友们：\\n1999年的新年钟声就要敲响了，人类又向新世纪迈进了一步...</td>\n",
              "    </tr>\n",
              "    <tr>\n",
              "      <th>8</th>\n",
              "      <td>9</td>\n",
              "      <td>2000</td>\n",
              "      <td>江泽民</td>\n",
              "      <td>女士们，先生们，同志们，朋友们：\\n二○○○年到来的钟声，就要鸣响在我们这个星球的寥廓上空。...</td>\n",
              "    </tr>\n",
              "    <tr>\n",
              "      <th>9</th>\n",
              "      <td>10</td>\n",
              "      <td>2001</td>\n",
              "      <td>江泽民</td>\n",
              "      <td>女士们，先生们，同志们，朋友们：\\n2001年新年钟声即将敲响。人类社会前进的航船就要驶入2...</td>\n",
              "    </tr>\n",
              "    <tr>\n",
              "      <th>10</th>\n",
              "      <td>11</td>\n",
              "      <td>2002</td>\n",
              "      <td>江泽民</td>\n",
              "      <td>女士们，先生们，同志们，朋友们：\\n在2002年新年钟声即将敲响之际，我很高兴通过中国国际广...</td>\n",
              "    </tr>\n",
              "    <tr>\n",
              "      <th>11</th>\n",
              "      <td>12</td>\n",
              "      <td>2003</td>\n",
              "      <td>江泽民</td>\n",
              "      <td>女士们，先生们，同志们，朋友们：\\n二00三年的新年钟声即将敲响。在新的一年到来的时刻，我很...</td>\n",
              "    </tr>\n",
              "    <tr>\n",
              "      <th>12</th>\n",
              "      <td>13</td>\n",
              "      <td>2004</td>\n",
              "      <td>胡锦涛</td>\n",
              "      <td>女士们，先生们，同志们，朋友们：\\n2004年的新年钟声即将敲响。在这辞旧迎新的美好时刻，我...</td>\n",
              "    </tr>\n",
              "    <tr>\n",
              "      <th>13</th>\n",
              "      <td>14</td>\n",
              "      <td>2005</td>\n",
              "      <td>胡锦涛</td>\n",
              "      <td>女士们，先生们，同志们，朋友们：\\n2005年新年钟声即将鸣响。在这辞旧迎新的时刻，我很高兴...</td>\n",
              "    </tr>\n",
              "    <tr>\n",
              "      <th>14</th>\n",
              "      <td>15</td>\n",
              "      <td>2006</td>\n",
              "      <td>胡锦涛</td>\n",
              "      <td>女士们，先生们，同志们，朋友们：\\n2006年的新年钟声即将敲响。在这辞旧迎新的美好时刻，我...</td>\n",
              "    </tr>\n",
              "    <tr>\n",
              "      <th>15</th>\n",
              "      <td>16</td>\n",
              "      <td>2007</td>\n",
              "      <td>胡锦涛</td>\n",
              "      <td>女士们，先生们，同志们，朋友们：\\n新年的钟声即将敲响。值此世界各国人民共迎2007年到来的...</td>\n",
              "    </tr>\n",
              "    <tr>\n",
              "      <th>16</th>\n",
              "      <td>17</td>\n",
              "      <td>2008</td>\n",
              "      <td>胡锦涛</td>\n",
              "      <td>女士们，先生们，同志们，朋友们：\\n新年的钟声即将敲响，2008年就要到来了。在这个充满希望...</td>\n",
              "    </tr>\n",
              "    <tr>\n",
              "      <th>17</th>\n",
              "      <td>18</td>\n",
              "      <td>2009</td>\n",
              "      <td>胡锦涛</td>\n",
              "      <td>女士们，先生们，同志们，朋友们：\\n新年的钟声就要敲响，我们即将开始2009年的崭新岁月。值...</td>\n",
              "    </tr>\n",
              "    <tr>\n",
              "      <th>18</th>\n",
              "      <td>19</td>\n",
              "      <td>2010</td>\n",
              "      <td>胡锦涛</td>\n",
              "      <td>女士们，先生们，同志们，朋友们：\\n新年的钟声就要敲响，2010年的帷幕即将拉开。在这辞旧迎...</td>\n",
              "    </tr>\n",
              "    <tr>\n",
              "      <th>19</th>\n",
              "      <td>20</td>\n",
              "      <td>2011</td>\n",
              "      <td>胡锦涛</td>\n",
              "      <td>新年钟声即将敲响，人类就要进入2011年。在这辞旧迎新的美好时刻，我很高兴通过中国国际广播电...</td>\n",
              "    </tr>\n",
              "    <tr>\n",
              "      <th>20</th>\n",
              "      <td>21</td>\n",
              "      <td>2012</td>\n",
              "      <td>胡锦涛</td>\n",
              "      <td>2012年的新年钟声即将敲响。在这辞旧迎新的美好时刻，我很高兴通过中国国际广播电台、中央人民...</td>\n",
              "    </tr>\n",
              "    <tr>\n",
              "      <th>21</th>\n",
              "      <td>22</td>\n",
              "      <td>2013</td>\n",
              "      <td>胡锦涛</td>\n",
              "      <td>新年钟声就要敲响，2013年即将来临。我很高兴通过中国国际广播电台、中央人民广播电台和中央电...</td>\n",
              "    </tr>\n",
              "    <tr>\n",
              "      <th>22</th>\n",
              "      <td>23</td>\n",
              "      <td>2014</td>\n",
              "      <td>习近平</td>\n",
              "      <td>我们即将迎来充满希望的2014年。\\n一元复始，万象更新。在这里，我向全国各族人民，向香港特...</td>\n",
              "    </tr>\n",
              "    <tr>\n",
              "      <th>23</th>\n",
              "      <td>24</td>\n",
              "      <td>2015</td>\n",
              "      <td>习近平</td>\n",
              "      <td>时间过得真快，2014年就要过去了，2015年正在向我们走来。在这辞旧迎新的时刻，我向全国各...</td>\n",
              "    </tr>\n",
              "    <tr>\n",
              "      <th>24</th>\n",
              "      <td>25</td>\n",
              "      <td>2016</td>\n",
              "      <td>习近平</td>\n",
              "      <td>同志们、朋友们、女士们、先生们：\\n再过几个小时，新年的钟声就要敲响了。我们即将告别2015...</td>\n",
              "    </tr>\n",
              "    <tr>\n",
              "      <th>25</th>\n",
              "      <td>26</td>\n",
              "      <td>2017</td>\n",
              "      <td>习近平</td>\n",
              "      <td>2016年即将过去，新年的钟声即将敲响。\\n在这辞旧迎新的美好时刻，我向全国各族人民，向香港...</td>\n",
              "    </tr>\n",
              "    <tr>\n",
              "      <th>26</th>\n",
              "      <td>27</td>\n",
              "      <td>2018</td>\n",
              "      <td>习近平</td>\n",
              "      <td>大家好！时光飞逝，转眼我们将迎来2018年。在这里，我向全国各族人民，向香港特别行政区同胞、...</td>\n",
              "    </tr>\n",
              "    <tr>\n",
              "      <th>27</th>\n",
              "      <td>28</td>\n",
              "      <td>2019</td>\n",
              "      <td>习近平</td>\n",
              "      <td>大家好！“岁月不居，时节如流。”2019年马上就要到了，我在北京向大家致以新年的美好祝福！\\...</td>\n",
              "    </tr>\n",
              "    <tr>\n",
              "      <th>28</th>\n",
              "      <td>29</td>\n",
              "      <td>2020</td>\n",
              "      <td>习近平</td>\n",
              "      <td>2020年就要到了，我在首都北京向大家送上新年的美好祝福！\\n2019年，我们用汗水浇灌收获...</td>\n",
              "    </tr>\n",
              "  </tbody>\n",
              "</table>\n",
              "</div>"
            ],
            "text/plain": [
              "    id  year person                                               text\n",
              "0    1  1992    杨尚昆  女士们、先生们、朋友们：\\n在岁序更新之际，我通过中国国际广播电台，向海外各位朋友致以亲切的...\n",
              "1    2  1993    杨尚昆  各位听众朋友：\\n1993年来到了，我很高兴再次通过中国国际广播电台向各国朋友、台湾同胞、港...\n",
              "2    3  1994    江泽民  女士们，先生们，朋友们：\\n在1994年到来之际，我很高兴在北京通过中国国际广播电台，向各国...\n",
              "3    4  1995    江泽民  女士们、先生们、朋友们：\\n在1995年到来之际，我很高兴再次通过中国国际广播电台，向各国人...\n",
              "4    5  1996    江泽民  女士们、先生们、朋友们：\\n在这辞旧迎新的美好时刻，我很高兴通过中国国际广播电台和中央电视台...\n",
              "5    6  1997    江泽民  女士们、先生们、朋友们：\\n在1997年到来的钟声即将敲响的时刻，我很高兴地通过中国国际广播...\n",
              "6    7  1998    江泽民  同胞们、朋友们、女士们、先生们：\\n在1998年来临之际，我十分高兴地通过中央人民广播电台、...\n",
              "7    8  1999    江泽民  女士们，先生们，同志们，朋友们：\\n1999年的新年钟声就要敲响了，人类又向新世纪迈进了一步...\n",
              "8    9  2000    江泽民  女士们，先生们，同志们，朋友们：\\n二○○○年到来的钟声，就要鸣响在我们这个星球的寥廓上空。...\n",
              "9   10  2001    江泽民  女士们，先生们，同志们，朋友们：\\n2001年新年钟声即将敲响。人类社会前进的航船就要驶入2...\n",
              "10  11  2002    江泽民  女士们，先生们，同志们，朋友们：\\n在2002年新年钟声即将敲响之际，我很高兴通过中国国际广...\n",
              "11  12  2003    江泽民  女士们，先生们，同志们，朋友们：\\n二00三年的新年钟声即将敲响。在新的一年到来的时刻，我很...\n",
              "12  13  2004    胡锦涛  女士们，先生们，同志们，朋友们：\\n2004年的新年钟声即将敲响。在这辞旧迎新的美好时刻，我...\n",
              "13  14  2005    胡锦涛  女士们，先生们，同志们，朋友们：\\n2005年新年钟声即将鸣响。在这辞旧迎新的时刻，我很高兴...\n",
              "14  15  2006    胡锦涛  女士们，先生们，同志们，朋友们：\\n2006年的新年钟声即将敲响。在这辞旧迎新的美好时刻，我...\n",
              "15  16  2007    胡锦涛  女士们，先生们，同志们，朋友们：\\n新年的钟声即将敲响。值此世界各国人民共迎2007年到来的...\n",
              "16  17  2008    胡锦涛  女士们，先生们，同志们，朋友们：\\n新年的钟声即将敲响，2008年就要到来了。在这个充满希望...\n",
              "17  18  2009    胡锦涛  女士们，先生们，同志们，朋友们：\\n新年的钟声就要敲响，我们即将开始2009年的崭新岁月。值...\n",
              "18  19  2010    胡锦涛  女士们，先生们，同志们，朋友们：\\n新年的钟声就要敲响，2010年的帷幕即将拉开。在这辞旧迎...\n",
              "19  20  2011    胡锦涛  新年钟声即将敲响，人类就要进入2011年。在这辞旧迎新的美好时刻，我很高兴通过中国国际广播电...\n",
              "20  21  2012    胡锦涛  2012年的新年钟声即将敲响。在这辞旧迎新的美好时刻，我很高兴通过中国国际广播电台、中央人民...\n",
              "21  22  2013    胡锦涛  新年钟声就要敲响，2013年即将来临。我很高兴通过中国国际广播电台、中央人民广播电台和中央电...\n",
              "22  23  2014    习近平  我们即将迎来充满希望的2014年。\\n一元复始，万象更新。在这里，我向全国各族人民，向香港特...\n",
              "23  24  2015    习近平  时间过得真快，2014年就要过去了，2015年正在向我们走来。在这辞旧迎新的时刻，我向全国各...\n",
              "24  25  2016    习近平  同志们、朋友们、女士们、先生们：\\n再过几个小时，新年的钟声就要敲响了。我们即将告别2015...\n",
              "25  26  2017    习近平  2016年即将过去，新年的钟声即将敲响。\\n在这辞旧迎新的美好时刻，我向全国各族人民，向香港...\n",
              "26  27  2018    习近平  大家好！时光飞逝，转眼我们将迎来2018年。在这里，我向全国各族人民，向香港特别行政区同胞、...\n",
              "27  28  2019    习近平  大家好！“岁月不居，时节如流。”2019年马上就要到了，我在北京向大家致以新年的美好祝福！\\...\n",
              "28  29  2020    习近平  2020年就要到了，我在首都北京向大家送上新年的美好祝福！\\n2019年，我们用汗水浇灌收获..."
            ]
          },
          "metadata": {},
          "execution_count": 6
        }
      ]
    },
    {
      "cell_type": "markdown",
      "metadata": {
        "id": "dAhnIWMQ_EsF"
      },
      "source": [
        "# 형태소 분석"
      ]
    },
    {
      "cell_type": "code",
      "metadata": {
        "id": "pDAHyajK_FET"
      },
      "source": [
        "# jieba(중국어형태소분석기) 중 품사태깅 요소를 pseg 별명으로 실행하기\n",
        "import jieba\n",
        "import jieba.posseg as pseg"
      ],
      "execution_count": null,
      "outputs": []
    },
    {
      "cell_type": "code",
      "metadata": {
        "id": "n5jC_UH5_Ria",
        "colab": {
          "base_uri": "https://localhost:8080/"
        },
        "outputId": "400599c7-8fe6-4991-8b35-b3f51403f483"
      },
      "source": [
        "# \"원본데이터\"를 대상으로 \"jieba\"를 사용해서 형태소 분석하기\n",
        "저장공간  = [] ## 모든 결과를 저장할 빈 공간으로 \"저장공간\" 설정\n",
        "for index, row in 원본데이터.iterrows():# 원본데이터의 컬럼(열)을 불러와서 반복할 준비!\n",
        "    textdata = row[3]  # 분석에서 사용할 텍스트 정보가 있는 열을 지정해준다. 주의! python은 0부터 시작한다!\n",
        "    type = row[2]  # 분석에서 사용할 분류 정보가 있는 열을 지정해준다. 주의! python은 0부터 시작한다!\n",
        "    형태소 = pseg.cut(textdata)  # jieba의 pos 기능을 활용해서 대상 텍스트를 형태소 분리한다.\n",
        "    for word in 형태소:  # jieba로 도출된 개별 형태소에 추가 정보를 기입하기 위해서 반복해준다.\n",
        "      형태소종합 = [word.word,word.flag,type,1]  # 형태소종합에 분류정보와 카운트정보를 추가한다.\n",
        "      저장공간.append(형태소종합) # 형태소종합의 내용을 종합하여 저장한다."
      ],
      "execution_count": null,
      "outputs": [
        {
          "output_type": "stream",
          "name": "stderr",
          "text": [
            "Building prefix dict from the default dictionary ...\n",
            "Dumping model to file cache /tmp/jieba.cache\n",
            "Loading model cost 0.986 seconds.\n",
            "Prefix dict has been built successfully.\n"
          ]
        }
      ]
    },
    {
      "cell_type": "code",
      "metadata": {
        "id": "R-QVydSm_bza",
        "colab": {
          "base_uri": "https://localhost:8080/"
        },
        "outputId": "f3c2f00f-a2dc-4d58-f248-a2e1f41bd9be"
      },
      "source": [
        "# \"형태소\" 변수의 저장 내용 확인\n",
        "형태소"
      ],
      "execution_count": null,
      "outputs": [
        {
          "output_type": "execute_result",
          "data": {
            "text/plain": [
              "<generator object cut at 0x7fd74772cbd0>"
            ]
          },
          "metadata": {},
          "execution_count": 9
        }
      ]
    },
    {
      "cell_type": "code",
      "metadata": {
        "id": "UMLjWOLOAURO",
        "colab": {
          "base_uri": "https://localhost:8080/"
        },
        "outputId": "ba13b4b2-e1ae-425f-90c8-ce434550159d"
      },
      "source": [
        "# \"형태소종합\" 변수의 저장 내용 확인\n",
        "형태소종합"
      ],
      "execution_count": null,
      "outputs": [
        {
          "output_type": "execute_result",
          "data": {
            "text/plain": [
              "['！', 'x', '习近平', 1]"
            ]
          },
          "metadata": {},
          "execution_count": 10
        }
      ]
    },
    {
      "cell_type": "code",
      "metadata": {
        "id": "7LIWTOCyAZBU"
      },
      "source": [
        "# \"저장공간\" 변수의 저장 내용 확인\n",
        "저장공간"
      ],
      "execution_count": null,
      "outputs": []
    },
    {
      "cell_type": "code",
      "metadata": {
        "id": "Nvl6RBEr_Y0a"
      },
      "source": [
        "# 단일 데이터프레임 구조로 변환\n",
        "분석통합 = pd.DataFrame(저장공간)"
      ],
      "execution_count": null,
      "outputs": []
    },
    {
      "cell_type": "code",
      "metadata": {
        "id": "EVA9Dzh7AgJT",
        "colab": {
          "base_uri": "https://localhost:8080/",
          "height": 423
        },
        "outputId": "2aa90c03-361a-4b6e-a32c-ba4b09a4160d"
      },
      "source": [
        "# \"분석통합\" 변수의 저장 내용 확인\n",
        "분석통합"
      ],
      "execution_count": null,
      "outputs": [
        {
          "output_type": "execute_result",
          "data": {
            "text/html": [
              "<div>\n",
              "<style scoped>\n",
              "    .dataframe tbody tr th:only-of-type {\n",
              "        vertical-align: middle;\n",
              "    }\n",
              "\n",
              "    .dataframe tbody tr th {\n",
              "        vertical-align: top;\n",
              "    }\n",
              "\n",
              "    .dataframe thead th {\n",
              "        text-align: right;\n",
              "    }\n",
              "</style>\n",
              "<table border=\"1\" class=\"dataframe\">\n",
              "  <thead>\n",
              "    <tr style=\"text-align: right;\">\n",
              "      <th></th>\n",
              "      <th>0</th>\n",
              "      <th>1</th>\n",
              "      <th>2</th>\n",
              "      <th>3</th>\n",
              "    </tr>\n",
              "  </thead>\n",
              "  <tbody>\n",
              "    <tr>\n",
              "      <th>0</th>\n",
              "      <td>女士们</td>\n",
              "      <td>n</td>\n",
              "      <td>杨尚昆</td>\n",
              "      <td>1</td>\n",
              "    </tr>\n",
              "    <tr>\n",
              "      <th>1</th>\n",
              "      <td>、</td>\n",
              "      <td>x</td>\n",
              "      <td>杨尚昆</td>\n",
              "      <td>1</td>\n",
              "    </tr>\n",
              "    <tr>\n",
              "      <th>2</th>\n",
              "      <td>先生</td>\n",
              "      <td>n</td>\n",
              "      <td>杨尚昆</td>\n",
              "      <td>1</td>\n",
              "    </tr>\n",
              "    <tr>\n",
              "      <th>3</th>\n",
              "      <td>们</td>\n",
              "      <td>k</td>\n",
              "      <td>杨尚昆</td>\n",
              "      <td>1</td>\n",
              "    </tr>\n",
              "    <tr>\n",
              "      <th>4</th>\n",
              "      <td>、</td>\n",
              "      <td>x</td>\n",
              "      <td>杨尚昆</td>\n",
              "      <td>1</td>\n",
              "    </tr>\n",
              "    <tr>\n",
              "      <th>...</th>\n",
              "      <td>...</td>\n",
              "      <td>...</td>\n",
              "      <td>...</td>\n",
              "      <td>...</td>\n",
              "    </tr>\n",
              "    <tr>\n",
              "      <th>22524</th>\n",
              "      <td>\\n</td>\n",
              "      <td>x</td>\n",
              "      <td>习近平</td>\n",
              "      <td>1</td>\n",
              "    </tr>\n",
              "    <tr>\n",
              "      <th>22525</th>\n",
              "      <td>祝</td>\n",
              "      <td>v</td>\n",
              "      <td>习近平</td>\n",
              "      <td>1</td>\n",
              "    </tr>\n",
              "    <tr>\n",
              "      <th>22526</th>\n",
              "      <td>大家</td>\n",
              "      <td>n</td>\n",
              "      <td>习近平</td>\n",
              "      <td>1</td>\n",
              "    </tr>\n",
              "    <tr>\n",
              "      <th>22527</th>\n",
              "      <td>新年快乐</td>\n",
              "      <td>l</td>\n",
              "      <td>习近平</td>\n",
              "      <td>1</td>\n",
              "    </tr>\n",
              "    <tr>\n",
              "      <th>22528</th>\n",
              "      <td>！</td>\n",
              "      <td>x</td>\n",
              "      <td>习近平</td>\n",
              "      <td>1</td>\n",
              "    </tr>\n",
              "  </tbody>\n",
              "</table>\n",
              "<p>22529 rows × 4 columns</p>\n",
              "</div>"
            ],
            "text/plain": [
              "          0  1    2  3\n",
              "0       女士们  n  杨尚昆  1\n",
              "1         、  x  杨尚昆  1\n",
              "2        先生  n  杨尚昆  1\n",
              "3         们  k  杨尚昆  1\n",
              "4         、  x  杨尚昆  1\n",
              "...     ... ..  ... ..\n",
              "22524    \\n  x  习近平  1\n",
              "22525     祝  v  习近平  1\n",
              "22526    大家  n  习近平  1\n",
              "22527  新年快乐  l  习近平  1\n",
              "22528     ！  x  习近平  1\n",
              "\n",
              "[22529 rows x 4 columns]"
            ]
          },
          "metadata": {},
          "execution_count": 13
        }
      ]
    },
    {
      "cell_type": "code",
      "metadata": {
        "id": "5JIVGa3MAhuK"
      },
      "source": [
        "# \"분석통합\" 변수의 컬럼(열) 이름 변경\n",
        "분석통합.columns = [\"형태소\", \"품사\", \"분류\", \"카운트\"]"
      ],
      "execution_count": null,
      "outputs": []
    },
    {
      "cell_type": "code",
      "metadata": {
        "id": "PhtMyNfQAjx6",
        "colab": {
          "base_uri": "https://localhost:8080/",
          "height": 423
        },
        "outputId": "385ce270-d4e7-4d7c-dd05-813630921ecc"
      },
      "source": [
        "# \"분석통합\" 변수의 저장 내용 확인\n",
        "분석통합"
      ],
      "execution_count": null,
      "outputs": [
        {
          "output_type": "execute_result",
          "data": {
            "text/html": [
              "<div>\n",
              "<style scoped>\n",
              "    .dataframe tbody tr th:only-of-type {\n",
              "        vertical-align: middle;\n",
              "    }\n",
              "\n",
              "    .dataframe tbody tr th {\n",
              "        vertical-align: top;\n",
              "    }\n",
              "\n",
              "    .dataframe thead th {\n",
              "        text-align: right;\n",
              "    }\n",
              "</style>\n",
              "<table border=\"1\" class=\"dataframe\">\n",
              "  <thead>\n",
              "    <tr style=\"text-align: right;\">\n",
              "      <th></th>\n",
              "      <th>형태소</th>\n",
              "      <th>품사</th>\n",
              "      <th>분류</th>\n",
              "      <th>카운트</th>\n",
              "    </tr>\n",
              "  </thead>\n",
              "  <tbody>\n",
              "    <tr>\n",
              "      <th>0</th>\n",
              "      <td>女士们</td>\n",
              "      <td>n</td>\n",
              "      <td>杨尚昆</td>\n",
              "      <td>1</td>\n",
              "    </tr>\n",
              "    <tr>\n",
              "      <th>1</th>\n",
              "      <td>、</td>\n",
              "      <td>x</td>\n",
              "      <td>杨尚昆</td>\n",
              "      <td>1</td>\n",
              "    </tr>\n",
              "    <tr>\n",
              "      <th>2</th>\n",
              "      <td>先生</td>\n",
              "      <td>n</td>\n",
              "      <td>杨尚昆</td>\n",
              "      <td>1</td>\n",
              "    </tr>\n",
              "    <tr>\n",
              "      <th>3</th>\n",
              "      <td>们</td>\n",
              "      <td>k</td>\n",
              "      <td>杨尚昆</td>\n",
              "      <td>1</td>\n",
              "    </tr>\n",
              "    <tr>\n",
              "      <th>4</th>\n",
              "      <td>、</td>\n",
              "      <td>x</td>\n",
              "      <td>杨尚昆</td>\n",
              "      <td>1</td>\n",
              "    </tr>\n",
              "    <tr>\n",
              "      <th>...</th>\n",
              "      <td>...</td>\n",
              "      <td>...</td>\n",
              "      <td>...</td>\n",
              "      <td>...</td>\n",
              "    </tr>\n",
              "    <tr>\n",
              "      <th>22524</th>\n",
              "      <td>\\n</td>\n",
              "      <td>x</td>\n",
              "      <td>习近平</td>\n",
              "      <td>1</td>\n",
              "    </tr>\n",
              "    <tr>\n",
              "      <th>22525</th>\n",
              "      <td>祝</td>\n",
              "      <td>v</td>\n",
              "      <td>习近平</td>\n",
              "      <td>1</td>\n",
              "    </tr>\n",
              "    <tr>\n",
              "      <th>22526</th>\n",
              "      <td>大家</td>\n",
              "      <td>n</td>\n",
              "      <td>习近平</td>\n",
              "      <td>1</td>\n",
              "    </tr>\n",
              "    <tr>\n",
              "      <th>22527</th>\n",
              "      <td>新年快乐</td>\n",
              "      <td>l</td>\n",
              "      <td>习近平</td>\n",
              "      <td>1</td>\n",
              "    </tr>\n",
              "    <tr>\n",
              "      <th>22528</th>\n",
              "      <td>！</td>\n",
              "      <td>x</td>\n",
              "      <td>习近平</td>\n",
              "      <td>1</td>\n",
              "    </tr>\n",
              "  </tbody>\n",
              "</table>\n",
              "<p>22529 rows × 4 columns</p>\n",
              "</div>"
            ],
            "text/plain": [
              "        형태소 품사   분류  카운트\n",
              "0       女士们  n  杨尚昆    1\n",
              "1         、  x  杨尚昆    1\n",
              "2        先生  n  杨尚昆    1\n",
              "3         们  k  杨尚昆    1\n",
              "4         、  x  杨尚昆    1\n",
              "...     ... ..  ...  ...\n",
              "22524    \\n  x  习近平    1\n",
              "22525     祝  v  习近平    1\n",
              "22526    大家  n  习近平    1\n",
              "22527  新年快乐  l  习近平    1\n",
              "22528     ！  x  习近平    1\n",
              "\n",
              "[22529 rows x 4 columns]"
            ]
          },
          "metadata": {},
          "execution_count": 15
        }
      ]
    },
    {
      "cell_type": "code",
      "metadata": {
        "id": "2Mh77Z54AmQa"
      },
      "source": [
        "# \"분석통합\" 변수의 내용을 형태소, 품사, 분류가 같은 것을 합치고, 카운트의 총합을 구해서 \"그룹통합\" 변수에 저장한다.\n",
        "그룹통합 = 분석통합.groupby(['형태소', '품사', \"분류\"])['카운트'].sum()"
      ],
      "execution_count": null,
      "outputs": []
    },
    {
      "cell_type": "code",
      "metadata": {
        "id": "9y5KfsANAnXZ",
        "colab": {
          "base_uri": "https://localhost:8080/"
        },
        "outputId": "13aea224-4a61-4b16-fab9-71edf47b4f3a"
      },
      "source": [
        "# \"그룹통합\" 변수의 저장 내용 확인\n",
        "그룹통합"
      ],
      "execution_count": null,
      "outputs": [
        {
          "output_type": "execute_result",
          "data": {
            "text/plain": [
              "형태소  품사  분류 \n",
              "\\n   x   习近平     94\n",
              "         杨尚昆     19\n",
              "         江泽民    111\n",
              "         胡锦涛     78\n",
              "     x   江泽民      1\n",
              "               ... \n",
              "：    x   杨尚昆      3\n",
              "         江泽民     13\n",
              "         胡锦涛      8\n",
              "；    x   杨尚昆      6\n",
              "         江泽民      8\n",
              "Name: 카운트, Length: 5122, dtype: int64"
            ]
          },
          "metadata": {},
          "execution_count": 17
        }
      ]
    },
    {
      "cell_type": "code",
      "metadata": {
        "id": "kEhGwV08ApRK"
      },
      "source": [
        "# \"그룹통합\" 변수의 내용을 데이터프레임 형식으로 변환해서 \"그룹통합\" 변수에 저장한다.\n",
        "그룹통합 = pd.DataFrame(그룹통합)"
      ],
      "execution_count": null,
      "outputs": []
    },
    {
      "cell_type": "code",
      "metadata": {
        "id": "lTTPHzCaAqGa",
        "colab": {
          "base_uri": "https://localhost:8080/",
          "height": 455
        },
        "outputId": "c83c0294-5563-4f46-dab1-f84e5adbde0e"
      },
      "source": [
        "# \"그룹통합\" 변수의 저장 내용 확인\n",
        "그룹통합"
      ],
      "execution_count": null,
      "outputs": [
        {
          "output_type": "execute_result",
          "data": {
            "text/html": [
              "<div>\n",
              "<style scoped>\n",
              "    .dataframe tbody tr th:only-of-type {\n",
              "        vertical-align: middle;\n",
              "    }\n",
              "\n",
              "    .dataframe tbody tr th {\n",
              "        vertical-align: top;\n",
              "    }\n",
              "\n",
              "    .dataframe thead th {\n",
              "        text-align: right;\n",
              "    }\n",
              "</style>\n",
              "<table border=\"1\" class=\"dataframe\">\n",
              "  <thead>\n",
              "    <tr style=\"text-align: right;\">\n",
              "      <th></th>\n",
              "      <th></th>\n",
              "      <th></th>\n",
              "      <th>카운트</th>\n",
              "    </tr>\n",
              "    <tr>\n",
              "      <th>형태소</th>\n",
              "      <th>품사</th>\n",
              "      <th>분류</th>\n",
              "      <th></th>\n",
              "    </tr>\n",
              "  </thead>\n",
              "  <tbody>\n",
              "    <tr>\n",
              "      <th rowspan=\"4\" valign=\"top\">\\n</th>\n",
              "      <th rowspan=\"4\" valign=\"top\">x</th>\n",
              "      <th>习近平</th>\n",
              "      <td>94</td>\n",
              "    </tr>\n",
              "    <tr>\n",
              "      <th>杨尚昆</th>\n",
              "      <td>19</td>\n",
              "    </tr>\n",
              "    <tr>\n",
              "      <th>江泽民</th>\n",
              "      <td>111</td>\n",
              "    </tr>\n",
              "    <tr>\n",
              "      <th>胡锦涛</th>\n",
              "      <td>78</td>\n",
              "    </tr>\n",
              "    <tr>\n",
              "      <th></th>\n",
              "      <th>x</th>\n",
              "      <th>江泽民</th>\n",
              "      <td>1</td>\n",
              "    </tr>\n",
              "    <tr>\n",
              "      <th>...</th>\n",
              "      <th>...</th>\n",
              "      <th>...</th>\n",
              "      <td>...</td>\n",
              "    </tr>\n",
              "    <tr>\n",
              "      <th rowspan=\"3\" valign=\"top\">：</th>\n",
              "      <th rowspan=\"3\" valign=\"top\">x</th>\n",
              "      <th>杨尚昆</th>\n",
              "      <td>3</td>\n",
              "    </tr>\n",
              "    <tr>\n",
              "      <th>江泽民</th>\n",
              "      <td>13</td>\n",
              "    </tr>\n",
              "    <tr>\n",
              "      <th>胡锦涛</th>\n",
              "      <td>8</td>\n",
              "    </tr>\n",
              "    <tr>\n",
              "      <th rowspan=\"2\" valign=\"top\">；</th>\n",
              "      <th rowspan=\"2\" valign=\"top\">x</th>\n",
              "      <th>杨尚昆</th>\n",
              "      <td>6</td>\n",
              "    </tr>\n",
              "    <tr>\n",
              "      <th>江泽民</th>\n",
              "      <td>8</td>\n",
              "    </tr>\n",
              "  </tbody>\n",
              "</table>\n",
              "<p>5122 rows × 1 columns</p>\n",
              "</div>"
            ],
            "text/plain": [
              "            카운트\n",
              "형태소 품사 분류      \n",
              "\\n  x  习近平   94\n",
              "       杨尚昆   19\n",
              "       江泽民  111\n",
              "       胡锦涛   78\n",
              "    x  江泽民    1\n",
              "...         ...\n",
              "：   x  杨尚昆    3\n",
              "       江泽民   13\n",
              "       胡锦涛    8\n",
              "；   x  杨尚昆    6\n",
              "       江泽民    8\n",
              "\n",
              "[5122 rows x 1 columns]"
            ]
          },
          "metadata": {},
          "execution_count": 19
        }
      ]
    },
    {
      "cell_type": "code",
      "metadata": {
        "id": "nQ9i2JUVAq26"
      },
      "source": [
        "# \"그룹통합\" 변수의 내용을 \"형태소분석결과.csv\" 파일로 저장한다.\n",
        "# header는 컬럼(열) 정보의 포함 여부이다.\n",
        "# encoding은 문자코드를 선택하는 것이다. python에서는 기본적으로 utf-8(유니코드)를 사용한다.\n",
        "\n",
        "그룹통합.to_csv('형태소분석결과.csv', header='true', encoding='utf-8')"
      ],
      "execution_count": null,
      "outputs": []
    }
  ]
}