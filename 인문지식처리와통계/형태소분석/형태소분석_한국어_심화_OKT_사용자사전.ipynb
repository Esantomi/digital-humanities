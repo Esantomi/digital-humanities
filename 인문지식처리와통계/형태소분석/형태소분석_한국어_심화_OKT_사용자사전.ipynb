{
  "nbformat": 4,
  "nbformat_minor": 0,
  "metadata": {
    "colab": {
      "name": "형태소분석_한국어_심화_OKT_사용자사전.ipynb",
      "provenance": [],
      "collapsed_sections": [],
      "include_colab_link": true
    },
    "kernelspec": {
      "name": "python3",
      "display_name": "Python 3"
    }
  },
  "cells": [
    {
      "cell_type": "markdown",
      "metadata": {
        "id": "view-in-github",
        "colab_type": "text"
      },
      "source": [
        "<a href=\"https://colab.research.google.com/github/Esantomi/digital-humanities/blob/main/%EC%9D%B8%EB%AC%B8%EC%A7%80%EC%8B%9D%EC%B2%98%EB%A6%AC%EC%99%80%ED%86%B5%EA%B3%84/%ED%98%95%ED%83%9C%EC%86%8C%EB%B6%84%EC%84%9D/%ED%98%95%ED%83%9C%EC%86%8C%EB%B6%84%EC%84%9D_%ED%95%9C%EA%B5%AD%EC%96%B4_%EC%8B%AC%ED%99%94_OKT_%EC%82%AC%EC%9A%A9%EC%9E%90%EC%82%AC%EC%A0%84.ipynb\" target=\"_parent\"><img src=\"https://colab.research.google.com/assets/colab-badge.svg\" alt=\"Open In Colab\"/></a>"
      ]
    },
    {
      "cell_type": "markdown",
      "metadata": {
        "id": "f7Ep46Z1pMqY"
      },
      "source": [
        "# 환경 준비(사용자사전)\n",
        "\n",
        "https://konlpy.org/ko/\n",
        "\n"
      ]
    },
    {
      "cell_type": "code",
      "metadata": {
        "id": "KHuJ_eoto7QV",
        "colab": {
          "base_uri": "https://localhost:8080/"
        },
        "outputId": "2d1eee84-b58b-40c2-b8c3-6d0c66a803d6"
      },
      "source": [
        "# konlpy 설치하기 ## https://data1000.tistory.com/33\n",
        "!pip3 install jpype1==0.7.0\n",
        "!pip3 install konlpy"
      ],
      "execution_count": null,
      "outputs": [
        {
          "output_type": "stream",
          "text": [
            "Collecting jpype1==0.7.0\n",
            "\u001b[?25l  Downloading https://files.pythonhosted.org/packages/2a/7c/1ce9a8271e7382e21c6e649f9a29095924af1c43d6901acb9762cedbd7d3/JPype1-0.7.0-cp37-cp37m-manylinux2010_x86_64.whl (2.8MB)\n",
            "\u001b[K     |████████████████████████████████| 2.8MB 6.4MB/s \n",
            "\u001b[?25hInstalling collected packages: jpype1\n",
            "Successfully installed jpype1-0.7.0\n",
            "Collecting konlpy\n",
            "\u001b[?25l  Downloading https://files.pythonhosted.org/packages/85/0e/f385566fec837c0b83f216b2da65db9997b35dd675e107752005b7d392b1/konlpy-0.5.2-py2.py3-none-any.whl (19.4MB)\n",
            "\u001b[K     |████████████████████████████████| 19.4MB 23.9MB/s \n",
            "\u001b[?25hRequirement already satisfied: tweepy>=3.7.0 in /usr/local/lib/python3.7/dist-packages (from konlpy) (3.10.0)\n",
            "Requirement already satisfied: lxml>=4.1.0 in /usr/local/lib/python3.7/dist-packages (from konlpy) (4.2.6)\n",
            "Collecting colorama\n",
            "  Downloading https://files.pythonhosted.org/packages/44/98/5b86278fbbf250d239ae0ecb724f8572af1c91f4a11edf4d36a206189440/colorama-0.4.4-py2.py3-none-any.whl\n",
            "Requirement already satisfied: numpy>=1.6 in /usr/local/lib/python3.7/dist-packages (from konlpy) (1.19.5)\n",
            "Requirement already satisfied: JPype1>=0.7.0 in /usr/local/lib/python3.7/dist-packages (from konlpy) (0.7.0)\n",
            "Collecting beautifulsoup4==4.6.0\n",
            "\u001b[?25l  Downloading https://files.pythonhosted.org/packages/9e/d4/10f46e5cfac773e22707237bfcd51bbffeaf0a576b0a847ec7ab15bd7ace/beautifulsoup4-4.6.0-py3-none-any.whl (86kB)\n",
            "\u001b[K     |████████████████████████████████| 92kB 6.5MB/s \n",
            "\u001b[?25hRequirement already satisfied: six>=1.10.0 in /usr/local/lib/python3.7/dist-packages (from tweepy>=3.7.0->konlpy) (1.15.0)\n",
            "Requirement already satisfied: requests[socks]>=2.11.1 in /usr/local/lib/python3.7/dist-packages (from tweepy>=3.7.0->konlpy) (2.23.0)\n",
            "Requirement already satisfied: requests-oauthlib>=0.7.0 in /usr/local/lib/python3.7/dist-packages (from tweepy>=3.7.0->konlpy) (1.3.0)\n",
            "Requirement already satisfied: certifi>=2017.4.17 in /usr/local/lib/python3.7/dist-packages (from requests[socks]>=2.11.1->tweepy>=3.7.0->konlpy) (2020.12.5)\n",
            "Requirement already satisfied: urllib3!=1.25.0,!=1.25.1,<1.26,>=1.21.1 in /usr/local/lib/python3.7/dist-packages (from requests[socks]>=2.11.1->tweepy>=3.7.0->konlpy) (1.24.3)\n",
            "Requirement already satisfied: chardet<4,>=3.0.2 in /usr/local/lib/python3.7/dist-packages (from requests[socks]>=2.11.1->tweepy>=3.7.0->konlpy) (3.0.4)\n",
            "Requirement already satisfied: idna<3,>=2.5 in /usr/local/lib/python3.7/dist-packages (from requests[socks]>=2.11.1->tweepy>=3.7.0->konlpy) (2.10)\n",
            "Requirement already satisfied: PySocks!=1.5.7,>=1.5.6; extra == \"socks\" in /usr/local/lib/python3.7/dist-packages (from requests[socks]>=2.11.1->tweepy>=3.7.0->konlpy) (1.7.1)\n",
            "Requirement already satisfied: oauthlib>=3.0.0 in /usr/local/lib/python3.7/dist-packages (from requests-oauthlib>=0.7.0->tweepy>=3.7.0->konlpy) (3.1.0)\n",
            "Installing collected packages: colorama, beautifulsoup4, konlpy\n",
            "  Found existing installation: beautifulsoup4 4.6.3\n",
            "    Uninstalling beautifulsoup4-4.6.3:\n",
            "      Successfully uninstalled beautifulsoup4-4.6.3\n",
            "Successfully installed beautifulsoup4-4.6.0 colorama-0.4.4 konlpy-0.5.2\n"
          ],
          "name": "stdout"
        }
      ]
    },
    {
      "cell_type": "code",
      "metadata": {
        "id": "v8s7pm2Ko_tt"
      },
      "source": [
        "# konlpy를 실행하기\n",
        "import konlpy"
      ],
      "execution_count": null,
      "outputs": []
    },
    {
      "cell_type": "code",
      "metadata": {
        "id": "JkwDdwbgo-Mp",
        "cellView": "both"
      },
      "source": [
        "## pandas을 실행하기, 단 실행 별명을 pd로\n",
        "import pandas as pd"
      ],
      "execution_count": null,
      "outputs": []
    },
    {
      "cell_type": "markdown",
      "metadata": {
        "id": "wycgqiQspQEL"
      },
      "source": [
        "# 데이터 불러오기"
      ]
    },
    {
      "cell_type": "code",
      "metadata": {
        "id": "EXSbylvjpUXC"
      },
      "source": [
        "# 구글 드라이브 연결을 위한 기본 세팅 \n",
        "!pip install -U -q PyDrive\n",
        " \n",
        "from pydrive.auth import GoogleAuth\n",
        "from pydrive.drive import GoogleDrive\n",
        "from google.colab import auth\n",
        "from oauth2client.client import GoogleCredentials\n",
        "\n",
        "auth.authenticate_user()\n",
        "gauth = GoogleAuth()\n",
        "gauth.credentials = GoogleCredentials.get_application_default()\n",
        "drive = GoogleDrive(gauth)"
      ],
      "execution_count": null,
      "outputs": []
    },
    {
      "cell_type": "code",
      "metadata": {
        "id": "HbrxvTb0pkKR"
      },
      "source": [
        "## 문서 ID로 실제 파일 불러오기\n",
        "# 실습을 위한 역대 대통령 취임사: 노무현, 이명박, 박근혜, 문재인\n",
        "## https://drive.google.com/open?id=1VEdcJErjAjj2ul5gnS0-IgKrpGy0NEAK\n",
        "\n",
        "# https://drive.google.com/file/d/1U4EJIBj3gu9OVNjO8ubEbrnlKAbssdHO/view?usp=sharing\n",
        "\n",
        "rawdata_downloaded = drive.CreateFile({'id': '1VEdcJErjAjj2ul5gnS0-IgKrpGy0NEAK'})\n",
        "rawdata_downloaded.GetContentFile('rawdata.tsv')"
      ],
      "execution_count": null,
      "outputs": []
    },
    {
      "cell_type": "code",
      "metadata": {
        "id": "Pk186oQ5pwM4"
      },
      "source": [
        "# \"rawdata.txt\" 파일의 내용을 \"원본데이터\" 변수로 불러오기\n",
        "원본데이터 = pd.read_csv('rawdata.tsv', sep=\"\\t\")"
      ],
      "execution_count": null,
      "outputs": []
    },
    {
      "cell_type": "code",
      "metadata": {
        "id": "HC4ZKjPapy8w",
        "colab": {
          "base_uri": "https://localhost:8080/",
          "height": 172
        },
        "outputId": "92808f44-687c-4957-d7a9-e2cddb49cabc"
      },
      "source": [
        "# \"원본데이터\" 변수 내용 확인하기\n",
        "원본데이터"
      ],
      "execution_count": null,
      "outputs": [
        {
          "output_type": "execute_result",
          "data": {
            "text/html": [
              "<div>\n",
              "<style scoped>\n",
              "    .dataframe tbody tr th:only-of-type {\n",
              "        vertical-align: middle;\n",
              "    }\n",
              "\n",
              "    .dataframe tbody tr th {\n",
              "        vertical-align: top;\n",
              "    }\n",
              "\n",
              "    .dataframe thead th {\n",
              "        text-align: right;\n",
              "    }\n",
              "</style>\n",
              "<table border=\"1\" class=\"dataframe\">\n",
              "  <thead>\n",
              "    <tr style=\"text-align: right;\">\n",
              "      <th></th>\n",
              "      <th>id</th>\n",
              "      <th>type</th>\n",
              "      <th>text</th>\n",
              "    </tr>\n",
              "  </thead>\n",
              "  <tbody>\n",
              "    <tr>\n",
              "      <th>0</th>\n",
              "      <td>1</td>\n",
              "      <td>노무현</td>\n",
              "      <td>존경하는 국민 여러분.   오늘 저는 대한민국의 제16대 대통령에 취임하기 위해 이...</td>\n",
              "    </tr>\n",
              "    <tr>\n",
              "      <th>1</th>\n",
              "      <td>2</td>\n",
              "      <td>이명박</td>\n",
              "      <td>존경하는 국민 여러분!  700만 해외동포 여러분, 이 자리에 참석하신 노무현, 김...</td>\n",
              "    </tr>\n",
              "    <tr>\n",
              "      <th>2</th>\n",
              "      <td>3</td>\n",
              "      <td>박근혜</td>\n",
              "      <td>희망의 새 시대를 열겠습니다.  존경하는 국민 여러분! 700만 해외동포 여러분! ...</td>\n",
              "    </tr>\n",
              "    <tr>\n",
              "      <th>3</th>\n",
              "      <td>4</td>\n",
              "      <td>문재인</td>\n",
              "      <td>존경하고 사랑하는 국민 여러분, 감사합니다. 국민 여러분의 위대한 선택에 머리 숙여...</td>\n",
              "    </tr>\n",
              "  </tbody>\n",
              "</table>\n",
              "</div>"
            ],
            "text/plain": [
              "   id type                                               text\n",
              "0   1  노무현  존경하는 국민 여러분.   오늘 저는 대한민국의 제16대 대통령에 취임하기 위해 이...\n",
              "1   2  이명박  존경하는 국민 여러분!  700만 해외동포 여러분, 이 자리에 참석하신 노무현, 김...\n",
              "2   3  박근혜  희망의 새 시대를 열겠습니다.  존경하는 국민 여러분! 700만 해외동포 여러분! ...\n",
              "3   4  문재인  존경하고 사랑하는 국민 여러분, 감사합니다. 국민 여러분의 위대한 선택에 머리 숙여..."
            ]
          },
          "metadata": {
            "tags": []
          },
          "execution_count": 16
        }
      ]
    },
    {
      "cell_type": "markdown",
      "metadata": {
        "id": "Wce9yoP4q1Oy"
      },
      "source": [
        "# 형태소 분석"
      ]
    },
    {
      "cell_type": "code",
      "metadata": {
        "id": "zxUfvTLTrD4U"
      },
      "source": [
        "# konlpy(한국어형태소분석기) 중에서 Okt 실행하기\n",
        "from konlpy.tag import Okt\n",
        "okt = Okt()"
      ],
      "execution_count": null,
      "outputs": []
    },
    {
      "cell_type": "code",
      "metadata": {
        "id": "2aGAOf86rFt4"
      },
      "source": [
        "# \"원본데이터\"를 대상으로 \"okt\"를 사용해서 형태소 분석하기\n",
        "저장공간  = []\n",
        "for index, row in 원본데이터.iterrows(): # 원본데이터의 컬럼(열)을 불러와서 반복할 준비!\n",
        "    대상텍스트 = row[2] # 분석에서 사용할 텍스트 정보가 있는 열을 지정해준다. 주의! python은 0부터 시작한다!\n",
        "    # 존경하는 국민 여러분. 오늘 저는 대한민국의 제16대 대통령에 취임하기 위해 이...\n",
        "    분류 = row[1] # 분석에서 사용할 분류 정보가 있는 열을 지정해준다. 주의! python은 0부터 시작한다!\n",
        "    #노무현\n",
        "    형태소 = list(okt.pos(대상텍스트)) # okt의 pos 기능을 활용해서 대상 텍스트를 형태소 분리한다.\n",
        "    형태소종합 = pd.DataFrame.from_records(형태소) # 형태소에 저장된 내용을 데이터프레임 형태로 해서 형태소종합으로 저장한다.\n",
        "    형태소종합['type'] = 분류 # 형태소종합에 분류정보를 추가한다.\n",
        "    형태소종합['count'] = 1   # 형태소종합에 카운트정보를 추가한다.   \n",
        "    저장공간.append(형태소종합) # 형태소종합의 내용을 종합하여 저장한다."
      ],
      "execution_count": null,
      "outputs": []
    },
    {
      "cell_type": "code",
      "metadata": {
        "id": "sanq9uIwrIHX"
      },
      "source": [
        "# \"형태소\" 변수의 저장 내용 확인\n",
        "형태소"
      ],
      "execution_count": null,
      "outputs": []
    },
    {
      "cell_type": "code",
      "metadata": {
        "id": "aiaB3m_uvWrP",
        "colab": {
          "base_uri": "https://localhost:8080/",
          "height": 417
        },
        "outputId": "744d2999-cf9f-4d98-e3f5-b0a44f26985c"
      },
      "source": [
        "# \"형태소종합\" 변수의 저장 내용 확인\n",
        "형태소종합"
      ],
      "execution_count": null,
      "outputs": [
        {
          "output_type": "execute_result",
          "data": {
            "text/html": [
              "<div>\n",
              "<style scoped>\n",
              "    .dataframe tbody tr th:only-of-type {\n",
              "        vertical-align: middle;\n",
              "    }\n",
              "\n",
              "    .dataframe tbody tr th {\n",
              "        vertical-align: top;\n",
              "    }\n",
              "\n",
              "    .dataframe thead th {\n",
              "        text-align: right;\n",
              "    }\n",
              "</style>\n",
              "<table border=\"1\" class=\"dataframe\">\n",
              "  <thead>\n",
              "    <tr style=\"text-align: right;\">\n",
              "      <th></th>\n",
              "      <th>0</th>\n",
              "      <th>1</th>\n",
              "      <th>type</th>\n",
              "      <th>count</th>\n",
              "    </tr>\n",
              "  </thead>\n",
              "  <tbody>\n",
              "    <tr>\n",
              "      <th>0</th>\n",
              "      <td>존경</td>\n",
              "      <td>Noun</td>\n",
              "      <td>문재인</td>\n",
              "      <td>1</td>\n",
              "    </tr>\n",
              "    <tr>\n",
              "      <th>1</th>\n",
              "      <td>하고</td>\n",
              "      <td>Josa</td>\n",
              "      <td>문재인</td>\n",
              "      <td>1</td>\n",
              "    </tr>\n",
              "    <tr>\n",
              "      <th>2</th>\n",
              "      <td>사랑</td>\n",
              "      <td>Noun</td>\n",
              "      <td>문재인</td>\n",
              "      <td>1</td>\n",
              "    </tr>\n",
              "    <tr>\n",
              "      <th>3</th>\n",
              "      <td>하는</td>\n",
              "      <td>Verb</td>\n",
              "      <td>문재인</td>\n",
              "      <td>1</td>\n",
              "    </tr>\n",
              "    <tr>\n",
              "      <th>4</th>\n",
              "      <td>국민</td>\n",
              "      <td>Noun</td>\n",
              "      <td>문재인</td>\n",
              "      <td>1</td>\n",
              "    </tr>\n",
              "    <tr>\n",
              "      <th>...</th>\n",
              "      <td>...</td>\n",
              "      <td>...</td>\n",
              "      <td>...</td>\n",
              "      <td>...</td>\n",
              "    </tr>\n",
              "    <tr>\n",
              "      <th>1198</th>\n",
              "      <td>일</td>\n",
              "      <td>Noun</td>\n",
              "      <td>문재인</td>\n",
              "      <td>1</td>\n",
              "    </tr>\n",
              "    <tr>\n",
              "      <th>1199</th>\n",
              "      <td>하겠습니다</td>\n",
              "      <td>Verb</td>\n",
              "      <td>문재인</td>\n",
              "      <td>1</td>\n",
              "    </tr>\n",
              "    <tr>\n",
              "      <th>1200</th>\n",
              "      <td>.</td>\n",
              "      <td>Punctuation</td>\n",
              "      <td>문재인</td>\n",
              "      <td>1</td>\n",
              "    </tr>\n",
              "    <tr>\n",
              "      <th>1201</th>\n",
              "      <td>감사합니다</td>\n",
              "      <td>Verb</td>\n",
              "      <td>문재인</td>\n",
              "      <td>1</td>\n",
              "    </tr>\n",
              "    <tr>\n",
              "      <th>1202</th>\n",
              "      <td>.</td>\n",
              "      <td>Punctuation</td>\n",
              "      <td>문재인</td>\n",
              "      <td>1</td>\n",
              "    </tr>\n",
              "  </tbody>\n",
              "</table>\n",
              "<p>1203 rows × 4 columns</p>\n",
              "</div>"
            ],
            "text/plain": [
              "          0            1 type  count\n",
              "0        존경         Noun  문재인      1\n",
              "1        하고         Josa  문재인      1\n",
              "2        사랑         Noun  문재인      1\n",
              "3        하는         Verb  문재인      1\n",
              "4        국민         Noun  문재인      1\n",
              "...     ...          ...  ...    ...\n",
              "1198      일         Noun  문재인      1\n",
              "1199  하겠습니다         Verb  문재인      1\n",
              "1200      .  Punctuation  문재인      1\n",
              "1201  감사합니다         Verb  문재인      1\n",
              "1202      .  Punctuation  문재인      1\n",
              "\n",
              "[1203 rows x 4 columns]"
            ]
          },
          "metadata": {
            "tags": []
          },
          "execution_count": 20
        }
      ]
    },
    {
      "cell_type": "code",
      "metadata": {
        "id": "EZlYwsd_rZCX",
        "colab": {
          "base_uri": "https://localhost:8080/"
        },
        "outputId": "73482cd5-0944-4d7a-8a31-09bdd3b0fdfc"
      },
      "source": [
        "# \"저장공간\" 변수의 저장 내용 확인\n",
        "저장공간"
      ],
      "execution_count": null,
      "outputs": [
        {
          "output_type": "execute_result",
          "data": {
            "text/plain": [
              "[          0            1 type  count\n",
              " 0        존경         Noun  노무현      1\n",
              " 1        하는         Verb  노무현      1\n",
              " 2        국민         Noun  노무현      1\n",
              " 3       여러분         Noun  노무현      1\n",
              " 4         .  Punctuation  노무현      1\n",
              " ...     ...          ...  ...    ...\n",
              " 2223     맹세         Noun  노무현      1\n",
              " 2224    합니다         Verb  노무현      1\n",
              " 2225      .  Punctuation  노무현      1\n",
              " 2226  감사합니다         Verb  노무현      1\n",
              " 2227      .  Punctuation  노무현      1\n",
              " \n",
              " [2228 rows x 4 columns],           0            1 type  count\n",
              " 0        존경         Noun  이명박      1\n",
              " 1        하는         Verb  이명박      1\n",
              " 2        국민         Noun  이명박      1\n",
              " 3       여러분         Noun  이명박      1\n",
              " 4         !  Punctuation  이명박      1\n",
              " ...     ...          ...  ...    ...\n",
              " 3586      것         Noun  이명박      1\n",
              " 3587    입니다    Adjective  이명박      1\n",
              " 3588      .  Punctuation  이명박      1\n",
              " 3589  감사합니다         Verb  이명박      1\n",
              " 3590      .  Punctuation  이명박      1\n",
              " \n",
              " [3591 rows x 4 columns],           0            1 type  count\n",
              " 0        희망         Noun  박근혜      1\n",
              " 1         의         Josa  박근혜      1\n",
              " 2         새         Noun  박근혜      1\n",
              " 3        시대         Noun  박근혜      1\n",
              " 4         를         Josa  박근혜      1\n",
              " ...     ...          ...  ...    ...\n",
              " 2237    만들어         Verb  박근혜      1\n",
              " 2238    갑시다         Verb  박근혜      1\n",
              " 2239      .  Punctuation  박근혜      1\n",
              " 2240  감사합니다         Verb  박근혜      1\n",
              " 2241      .  Punctuation  박근혜      1\n",
              " \n",
              " [2242 rows x 4 columns],           0            1 type  count\n",
              " 0        존경         Noun  문재인      1\n",
              " 1        하고         Josa  문재인      1\n",
              " 2        사랑         Noun  문재인      1\n",
              " 3        하는         Verb  문재인      1\n",
              " 4        국민         Noun  문재인      1\n",
              " ...     ...          ...  ...    ...\n",
              " 1198      일         Noun  문재인      1\n",
              " 1199  하겠습니다         Verb  문재인      1\n",
              " 1200      .  Punctuation  문재인      1\n",
              " 1201  감사합니다         Verb  문재인      1\n",
              " 1202      .  Punctuation  문재인      1\n",
              " \n",
              " [1203 rows x 4 columns]]"
            ]
          },
          "metadata": {
            "tags": []
          },
          "execution_count": 21
        }
      ]
    },
    {
      "cell_type": "code",
      "metadata": {
        "id": "jPg2tnvYrdYm"
      },
      "source": [
        "# \"저장공간\" 변수의 내용을 데이터프레임 형식으로 변환해서 \"분석통합\" 변수에 저장한다.\n",
        "분석통합 = pd.concat(저장공간)"
      ],
      "execution_count": null,
      "outputs": []
    },
    {
      "cell_type": "code",
      "metadata": {
        "id": "aW9KPz-GrfGO",
        "colab": {
          "base_uri": "https://localhost:8080/",
          "height": 417
        },
        "outputId": "4ca9f1d2-6247-47a2-e34c-5a0705050380"
      },
      "source": [
        "# \"분석통합\" 변수의 저장 내용 확인\n",
        "분석통합"
      ],
      "execution_count": null,
      "outputs": [
        {
          "output_type": "execute_result",
          "data": {
            "text/html": [
              "<div>\n",
              "<style scoped>\n",
              "    .dataframe tbody tr th:only-of-type {\n",
              "        vertical-align: middle;\n",
              "    }\n",
              "\n",
              "    .dataframe tbody tr th {\n",
              "        vertical-align: top;\n",
              "    }\n",
              "\n",
              "    .dataframe thead th {\n",
              "        text-align: right;\n",
              "    }\n",
              "</style>\n",
              "<table border=\"1\" class=\"dataframe\">\n",
              "  <thead>\n",
              "    <tr style=\"text-align: right;\">\n",
              "      <th></th>\n",
              "      <th>0</th>\n",
              "      <th>1</th>\n",
              "      <th>type</th>\n",
              "      <th>count</th>\n",
              "    </tr>\n",
              "  </thead>\n",
              "  <tbody>\n",
              "    <tr>\n",
              "      <th>0</th>\n",
              "      <td>존경</td>\n",
              "      <td>Noun</td>\n",
              "      <td>노무현</td>\n",
              "      <td>1</td>\n",
              "    </tr>\n",
              "    <tr>\n",
              "      <th>1</th>\n",
              "      <td>하는</td>\n",
              "      <td>Verb</td>\n",
              "      <td>노무현</td>\n",
              "      <td>1</td>\n",
              "    </tr>\n",
              "    <tr>\n",
              "      <th>2</th>\n",
              "      <td>국민</td>\n",
              "      <td>Noun</td>\n",
              "      <td>노무현</td>\n",
              "      <td>1</td>\n",
              "    </tr>\n",
              "    <tr>\n",
              "      <th>3</th>\n",
              "      <td>여러분</td>\n",
              "      <td>Noun</td>\n",
              "      <td>노무현</td>\n",
              "      <td>1</td>\n",
              "    </tr>\n",
              "    <tr>\n",
              "      <th>4</th>\n",
              "      <td>.</td>\n",
              "      <td>Punctuation</td>\n",
              "      <td>노무현</td>\n",
              "      <td>1</td>\n",
              "    </tr>\n",
              "    <tr>\n",
              "      <th>...</th>\n",
              "      <td>...</td>\n",
              "      <td>...</td>\n",
              "      <td>...</td>\n",
              "      <td>...</td>\n",
              "    </tr>\n",
              "    <tr>\n",
              "      <th>1198</th>\n",
              "      <td>일</td>\n",
              "      <td>Noun</td>\n",
              "      <td>문재인</td>\n",
              "      <td>1</td>\n",
              "    </tr>\n",
              "    <tr>\n",
              "      <th>1199</th>\n",
              "      <td>하겠습니다</td>\n",
              "      <td>Verb</td>\n",
              "      <td>문재인</td>\n",
              "      <td>1</td>\n",
              "    </tr>\n",
              "    <tr>\n",
              "      <th>1200</th>\n",
              "      <td>.</td>\n",
              "      <td>Punctuation</td>\n",
              "      <td>문재인</td>\n",
              "      <td>1</td>\n",
              "    </tr>\n",
              "    <tr>\n",
              "      <th>1201</th>\n",
              "      <td>감사합니다</td>\n",
              "      <td>Verb</td>\n",
              "      <td>문재인</td>\n",
              "      <td>1</td>\n",
              "    </tr>\n",
              "    <tr>\n",
              "      <th>1202</th>\n",
              "      <td>.</td>\n",
              "      <td>Punctuation</td>\n",
              "      <td>문재인</td>\n",
              "      <td>1</td>\n",
              "    </tr>\n",
              "  </tbody>\n",
              "</table>\n",
              "<p>9264 rows × 4 columns</p>\n",
              "</div>"
            ],
            "text/plain": [
              "          0            1 type  count\n",
              "0        존경         Noun  노무현      1\n",
              "1        하는         Verb  노무현      1\n",
              "2        국민         Noun  노무현      1\n",
              "3       여러분         Noun  노무현      1\n",
              "4         .  Punctuation  노무현      1\n",
              "...     ...          ...  ...    ...\n",
              "1198      일         Noun  문재인      1\n",
              "1199  하겠습니다         Verb  문재인      1\n",
              "1200      .  Punctuation  문재인      1\n",
              "1201  감사합니다         Verb  문재인      1\n",
              "1202      .  Punctuation  문재인      1\n",
              "\n",
              "[9264 rows x 4 columns]"
            ]
          },
          "metadata": {
            "tags": []
          },
          "execution_count": 23
        }
      ]
    },
    {
      "cell_type": "code",
      "metadata": {
        "id": "mYBnRLrOremd"
      },
      "source": [
        "# \"분석통합\" 변수의 컬럼(열) 이름 변경\n",
        "분석통합.columns = [\"형태소\", \"품사\", \"분류\", \"카운트\"]"
      ],
      "execution_count": null,
      "outputs": []
    },
    {
      "cell_type": "code",
      "metadata": {
        "id": "KIEaYMwSriNW",
        "colab": {
          "base_uri": "https://localhost:8080/",
          "height": 417
        },
        "outputId": "e48dcefc-c49b-4257-8551-c05443348dd2"
      },
      "source": [
        "# \"분석통합\" 변수의 저장 내용 확인\n",
        "분석통합"
      ],
      "execution_count": null,
      "outputs": [
        {
          "output_type": "execute_result",
          "data": {
            "text/html": [
              "<div>\n",
              "<style scoped>\n",
              "    .dataframe tbody tr th:only-of-type {\n",
              "        vertical-align: middle;\n",
              "    }\n",
              "\n",
              "    .dataframe tbody tr th {\n",
              "        vertical-align: top;\n",
              "    }\n",
              "\n",
              "    .dataframe thead th {\n",
              "        text-align: right;\n",
              "    }\n",
              "</style>\n",
              "<table border=\"1\" class=\"dataframe\">\n",
              "  <thead>\n",
              "    <tr style=\"text-align: right;\">\n",
              "      <th></th>\n",
              "      <th>형태소</th>\n",
              "      <th>품사</th>\n",
              "      <th>분류</th>\n",
              "      <th>카운트</th>\n",
              "    </tr>\n",
              "  </thead>\n",
              "  <tbody>\n",
              "    <tr>\n",
              "      <th>0</th>\n",
              "      <td>존경</td>\n",
              "      <td>Noun</td>\n",
              "      <td>노무현</td>\n",
              "      <td>1</td>\n",
              "    </tr>\n",
              "    <tr>\n",
              "      <th>1</th>\n",
              "      <td>하는</td>\n",
              "      <td>Verb</td>\n",
              "      <td>노무현</td>\n",
              "      <td>1</td>\n",
              "    </tr>\n",
              "    <tr>\n",
              "      <th>2</th>\n",
              "      <td>국민</td>\n",
              "      <td>Noun</td>\n",
              "      <td>노무현</td>\n",
              "      <td>1</td>\n",
              "    </tr>\n",
              "    <tr>\n",
              "      <th>3</th>\n",
              "      <td>여러분</td>\n",
              "      <td>Noun</td>\n",
              "      <td>노무현</td>\n",
              "      <td>1</td>\n",
              "    </tr>\n",
              "    <tr>\n",
              "      <th>4</th>\n",
              "      <td>.</td>\n",
              "      <td>Punctuation</td>\n",
              "      <td>노무현</td>\n",
              "      <td>1</td>\n",
              "    </tr>\n",
              "    <tr>\n",
              "      <th>...</th>\n",
              "      <td>...</td>\n",
              "      <td>...</td>\n",
              "      <td>...</td>\n",
              "      <td>...</td>\n",
              "    </tr>\n",
              "    <tr>\n",
              "      <th>1198</th>\n",
              "      <td>일</td>\n",
              "      <td>Noun</td>\n",
              "      <td>문재인</td>\n",
              "      <td>1</td>\n",
              "    </tr>\n",
              "    <tr>\n",
              "      <th>1199</th>\n",
              "      <td>하겠습니다</td>\n",
              "      <td>Verb</td>\n",
              "      <td>문재인</td>\n",
              "      <td>1</td>\n",
              "    </tr>\n",
              "    <tr>\n",
              "      <th>1200</th>\n",
              "      <td>.</td>\n",
              "      <td>Punctuation</td>\n",
              "      <td>문재인</td>\n",
              "      <td>1</td>\n",
              "    </tr>\n",
              "    <tr>\n",
              "      <th>1201</th>\n",
              "      <td>감사합니다</td>\n",
              "      <td>Verb</td>\n",
              "      <td>문재인</td>\n",
              "      <td>1</td>\n",
              "    </tr>\n",
              "    <tr>\n",
              "      <th>1202</th>\n",
              "      <td>.</td>\n",
              "      <td>Punctuation</td>\n",
              "      <td>문재인</td>\n",
              "      <td>1</td>\n",
              "    </tr>\n",
              "  </tbody>\n",
              "</table>\n",
              "<p>9264 rows × 4 columns</p>\n",
              "</div>"
            ],
            "text/plain": [
              "        형태소           품사   분류  카운트\n",
              "0        존경         Noun  노무현    1\n",
              "1        하는         Verb  노무현    1\n",
              "2        국민         Noun  노무현    1\n",
              "3       여러분         Noun  노무현    1\n",
              "4         .  Punctuation  노무현    1\n",
              "...     ...          ...  ...  ...\n",
              "1198      일         Noun  문재인    1\n",
              "1199  하겠습니다         Verb  문재인    1\n",
              "1200      .  Punctuation  문재인    1\n",
              "1201  감사합니다         Verb  문재인    1\n",
              "1202      .  Punctuation  문재인    1\n",
              "\n",
              "[9264 rows x 4 columns]"
            ]
          },
          "metadata": {
            "tags": []
          },
          "execution_count": 26
        }
      ]
    },
    {
      "cell_type": "code",
      "metadata": {
        "id": "jQqgpDTBrjCd"
      },
      "source": [
        "# \"분석통합\" 변수의 내용을 형태소, 품사, 분류가 같은 것을 합치고, 카운트의 총합을 구해서 \"그룹통합\" 변수에 저장한다.\n",
        "그룹통합 = 분석통합.groupby(['형태소', '품사', \"분류\"])['카운트'].sum()"
      ],
      "execution_count": null,
      "outputs": []
    },
    {
      "cell_type": "code",
      "metadata": {
        "id": "kbEoacSbrnC1",
        "colab": {
          "base_uri": "https://localhost:8080/"
        },
        "outputId": "7782f975-a910-4446-a103-f9d4ec11cdc3"
      },
      "source": [
        "# \"그룹통합\" 변수의 저장 내용 확인\n",
        "그룹통합"
      ],
      "execution_count": null,
      "outputs": [
        {
          "output_type": "execute_result",
          "data": {
            "text/plain": [
              "형태소     품사           분류 \n",
              "!       Punctuation  박근혜     9\n",
              "                     이명박     9\n",
              "'       Punctuation  노무현    10\n",
              "(       Punctuation  이명박     4\n",
              ")       Punctuation  이명박     4\n",
              "                            ..\n",
              "힘       Noun         이명박     5\n",
              "힘들었던    Adjective    문재인     1\n",
              "힘쓰겠습니다  Verb         이명박     2\n",
              "힘쓸      Verb         이명박     1\n",
              "힘차게     Adjective    이명박     1\n",
              "Name: 카운트, Length: 3285, dtype: int64"
            ]
          },
          "metadata": {
            "tags": []
          },
          "execution_count": 28
        }
      ]
    },
    {
      "cell_type": "code",
      "metadata": {
        "id": "lrMR5a-rroxU"
      },
      "source": [
        "# \"그룹통합\" 변수의 내용을 데이터프레임 형식으로 변환해서 \"그룹통합\" 변수에 저장한다.\n",
        "그룹통합 = pd.DataFrame(그룹통합)"
      ],
      "execution_count": null,
      "outputs": []
    },
    {
      "cell_type": "code",
      "metadata": {
        "id": "sSjWDwgjsDCk",
        "colab": {
          "base_uri": "https://localhost:8080/",
          "height": 447
        },
        "outputId": "4476744f-6a12-4bed-9092-90644db0a511"
      },
      "source": [
        "# \"그룹통합\" 변수의 저장 내용 확인\n",
        "그룹통합"
      ],
      "execution_count": null,
      "outputs": [
        {
          "output_type": "execute_result",
          "data": {
            "text/html": [
              "<div>\n",
              "<style scoped>\n",
              "    .dataframe tbody tr th:only-of-type {\n",
              "        vertical-align: middle;\n",
              "    }\n",
              "\n",
              "    .dataframe tbody tr th {\n",
              "        vertical-align: top;\n",
              "    }\n",
              "\n",
              "    .dataframe thead th {\n",
              "        text-align: right;\n",
              "    }\n",
              "</style>\n",
              "<table border=\"1\" class=\"dataframe\">\n",
              "  <thead>\n",
              "    <tr style=\"text-align: right;\">\n",
              "      <th></th>\n",
              "      <th></th>\n",
              "      <th></th>\n",
              "      <th>카운트</th>\n",
              "    </tr>\n",
              "    <tr>\n",
              "      <th>형태소</th>\n",
              "      <th>품사</th>\n",
              "      <th>분류</th>\n",
              "      <th></th>\n",
              "    </tr>\n",
              "  </thead>\n",
              "  <tbody>\n",
              "    <tr>\n",
              "      <th rowspan=\"2\" valign=\"top\">!</th>\n",
              "      <th rowspan=\"2\" valign=\"top\">Punctuation</th>\n",
              "      <th>박근혜</th>\n",
              "      <td>9</td>\n",
              "    </tr>\n",
              "    <tr>\n",
              "      <th>이명박</th>\n",
              "      <td>9</td>\n",
              "    </tr>\n",
              "    <tr>\n",
              "      <th>'</th>\n",
              "      <th>Punctuation</th>\n",
              "      <th>노무현</th>\n",
              "      <td>10</td>\n",
              "    </tr>\n",
              "    <tr>\n",
              "      <th>(</th>\n",
              "      <th>Punctuation</th>\n",
              "      <th>이명박</th>\n",
              "      <td>4</td>\n",
              "    </tr>\n",
              "    <tr>\n",
              "      <th>)</th>\n",
              "      <th>Punctuation</th>\n",
              "      <th>이명박</th>\n",
              "      <td>4</td>\n",
              "    </tr>\n",
              "    <tr>\n",
              "      <th>...</th>\n",
              "      <th>...</th>\n",
              "      <th>...</th>\n",
              "      <td>...</td>\n",
              "    </tr>\n",
              "    <tr>\n",
              "      <th>힘</th>\n",
              "      <th>Noun</th>\n",
              "      <th>이명박</th>\n",
              "      <td>5</td>\n",
              "    </tr>\n",
              "    <tr>\n",
              "      <th>힘들었던</th>\n",
              "      <th>Adjective</th>\n",
              "      <th>문재인</th>\n",
              "      <td>1</td>\n",
              "    </tr>\n",
              "    <tr>\n",
              "      <th>힘쓰겠습니다</th>\n",
              "      <th>Verb</th>\n",
              "      <th>이명박</th>\n",
              "      <td>2</td>\n",
              "    </tr>\n",
              "    <tr>\n",
              "      <th>힘쓸</th>\n",
              "      <th>Verb</th>\n",
              "      <th>이명박</th>\n",
              "      <td>1</td>\n",
              "    </tr>\n",
              "    <tr>\n",
              "      <th>힘차게</th>\n",
              "      <th>Adjective</th>\n",
              "      <th>이명박</th>\n",
              "      <td>1</td>\n",
              "    </tr>\n",
              "  </tbody>\n",
              "</table>\n",
              "<p>3285 rows × 1 columns</p>\n",
              "</div>"
            ],
            "text/plain": [
              "                        카운트\n",
              "형태소    품사          분류      \n",
              "!      Punctuation 박근혜    9\n",
              "                   이명박    9\n",
              "'      Punctuation 노무현   10\n",
              "(      Punctuation 이명박    4\n",
              ")      Punctuation 이명박    4\n",
              "...                     ...\n",
              "힘      Noun        이명박    5\n",
              "힘들었던   Adjective   문재인    1\n",
              "힘쓰겠습니다 Verb        이명박    2\n",
              "힘쓸     Verb        이명박    1\n",
              "힘차게    Adjective   이명박    1\n",
              "\n",
              "[3285 rows x 1 columns]"
            ]
          },
          "metadata": {
            "tags": []
          },
          "execution_count": 30
        }
      ]
    },
    {
      "cell_type": "code",
      "metadata": {
        "id": "F10LD-NtsjfX"
      },
      "source": [
        "# \"그룹통합\" 변수의 내용을 \"형태소분석결과.csv\" 파일로 저장한다.\n",
        "# header는 컬럼(열) 정보의 포함 여부이다.\n",
        "# encoding은 문자코드를 선택하는 것이다. python에서는 기본적으로 utf-8(유니코드)를 사용한다.\n",
        "\n",
        "그룹통합.to_csv('형태소분석결과.csv', header='true', encoding='utf-8')"
      ],
      "execution_count": null,
      "outputs": []
    }
  ]
}